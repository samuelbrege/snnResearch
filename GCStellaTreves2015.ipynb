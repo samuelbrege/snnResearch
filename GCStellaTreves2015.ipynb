{
 "cells": [
  {
   "cell_type": "code",
   "execution_count": null,
   "metadata": {},
   "outputs": [],
   "source": [
    "import numpy as np\n",
    "import matplotlib.pyplot as plt\n",
    "import ipywidgets as widgets\n",
    "from IPython.display import display\n",
    "%matplotlib inline"
   ]
  },
  {
   "cell_type": "code",
   "execution_count": null,
   "metadata": {},
   "outputs": [],
   "source": [
    "#Sim Parameters\n",
    "aSize = 50\n",
    "steps = 20000\n",
    "speed = 0.1\n",
    "thetaMax = 5\n",
    "\n",
    "#Calculates vector using angle\n",
    "def conv(ang):\n",
    "        x = np.cos(np.radians(ang)) \n",
    "        y = np.sin(np.radians(ang)) \n",
    "        return x , y\n",
    "\n",
    "def random_walk_3d(aSize, steps, speed, thetaMax, plot=True):\n",
    "\n",
    "    #random initial values\n",
    "    x = [np.random.uniform(0, aSize)]\n",
    "    y = [np.random.uniform(0, aSize)]\n",
    "    theta = np.random.uniform(0, 360)\n",
    "\n",
    "    #Actual random walk\n",
    "    for step in range(steps-1):\n",
    "\n",
    "        theta += np.random.uniform(-thetaMax,thetaMax)\n",
    "\n",
    "        while (x[-1] + speed*conv(theta)[0] > aSize) or (x[-1] + speed*conv(theta)[0] < 0):\n",
    "            theta = np.random.uniform(0,360)\n",
    "\n",
    "        while (y[-1] + speed*conv(theta)[1] > aSize) or (y[-1] + speed*conv(theta)[1] < 0):\n",
    "            theta = np.random.uniform(0,360)\n",
    "\n",
    "        x.append(x[-1] + speed*conv(theta)[0])\n",
    "        y.append(y[-1] + speed*conv(theta)[1])\n",
    "\n",
    "        \n",
    "    if plot:\n",
    "        #Plotting setup\n",
    "        fig, ax = plt.subplots()\n",
    "        fig.set_size_inches((6,6))\n",
    "        ax.set_xlim(xmin = 0, xmax=aSize)\n",
    "        ax.set_ylim(ymin = 0, ymax=aSize)\n",
    "        ax.set_title('Random Walk within a walled arena')\n",
    "        ax.plot(x,y,'-')\n",
    "\n",
    "        plt.show()\n",
    "\n",
    "    x = np.asarray(x)\n",
    "    y = np.asarray(y)\n",
    "\n",
    "    return np.hstack((x.reshape((-1,1)), y.reshape((-1,1))))\n",
    "\n",
    "coords = random_walk(aSize, steps, speed, thetaMax)"
   ]
  }
 ],
 "metadata": {
  "kernelspec": {
   "display_name": "Python 3.10.0 64-bit",
   "language": "python",
   "name": "python3"
  },
  "language_info": {
   "name": "python",
   "version": "3.10.0"
  },
  "orig_nbformat": 4,
  "vscode": {
   "interpreter": {
    "hash": "aee8b7b246df8f9039afb4144a1f6fd8d2ca17a180786b69acc140d282b71a49"
   }
  }
 },
 "nbformat": 4,
 "nbformat_minor": 2
}
