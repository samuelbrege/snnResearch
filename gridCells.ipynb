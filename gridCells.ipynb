{
 "cells": [
  {
   "cell_type": "code",
   "execution_count": 15,
   "metadata": {},
   "outputs": [],
   "source": [
    "import numpy as np\n",
    "import brian2 as b2\n",
    "import matplotlib.pyplot as plt"
   ]
  },
  {
   "cell_type": "markdown",
   "metadata": {},
   "source": [
    "Notebook goal is to model gridcells as a twisted torus using velocity as an input, using equations from Guanella and Verschure 2007"
   ]
  },
  {
   "cell_type": "markdown",
   "metadata": {},
   "source": [
    "**Reference**\n",
    "\\\n",
    "\\\n",
    "$N:$ Number of neurons\n",
    "\\\n",
    "$N_{x}:$ Width\n",
    "\\\n",
    "$N_{y}:$ Height\n",
    "\\\n",
    "$A:$ Activity matrix of shape $x$ by $y$\n",
    "\\\n",
    "$I:$ Intensity parameter, defining the overall strength of the synapses\n",
    "\\\n",
    "$\\sigma:$ Regulates the size of the Gaussian\n",
    "\\\n",
    "$T:$ Shift parameter determining excitatory and inhibitory zones\n",
    "\\\n",
    "$\\alpha:$ The gain (distance between receptive fields)\n",
    "\\\n",
    "$\\beta:$ The bias (angle of receptive fields) $[0, \\pi/3]$"
   ]
  },
  {
   "cell_type": "code",
   "execution_count": 16,
   "metadata": {},
   "outputs": [],
   "source": [
    "#Only Ny needs to be defined, but writing out for clarity\n",
    "#Nx = Ny + 1, N = Nx * Ny\n",
    "Ny = 9\n",
    "Nx = 10\n",
    "N = 90"
   ]
  },
  {
   "cell_type": "markdown",
   "metadata": {},
   "source": [
    "Initialize neuron activity randomly distributed between $0$ and $1/\\sqrt{N}$"
   ]
  },
  {
   "cell_type": "code",
   "execution_count": 17,
   "metadata": {},
   "outputs": [],
   "source": [
    "def initA(Nx, Ny):\n",
    "    return np.random.uniform(0, 1/np.sqrt(N), N)"
   ]
  },
  {
   "cell_type": "markdown",
   "metadata": {},
   "source": [
    "**Activity Eqs.**\n",
    "\\\n",
    "\\\n",
    "$B_{i}(t+1) = A_{i}(t) + \\sum \\limits _{j=1}^{N}A_{j}(t)w_{ji}$ \n",
    "\\\n",
    "$A_{i}(t+1) = B_{i}(t+1) + \\tau\\Bigg(\\frac{B_{i}(t+1)}{<B_{j}(t+1)>_{j=1}^{N}}-B_{i}(t+1)\\Bigg)$\n",
    "\\\n",
    "\\\n",
    "Function $< . >_{j=1}^{N}$ is the mean over the cells of the network, used to ensure stability \\\n",
    "\\\n",
    "Therefore $<B_{j}(t+1)>_{j=1}^{N}$ is an external cell that keeps things stable \\\n",
    "\\\n",
    "$A_{i}(t+1) = 0$ when $A_{i}(t+1)$ is smaller than 0 \\\n",
    "\\\n",
    "\\\n",
    "**Synapse Eqs.**\n",
    "\\\n",
    "\\\n",
    "$w_{ij} = I\\exp{(-\\frac{||c_{i}-c_{j}||_{tri}^2}{\\sigma^2})} - T$\n",
    "\\\n",
    "\\\n",
    "Where $c_{i} = (c_{ix},c_{iy})$ is the position of cell $i$, $c_{ix} = (i_{x} - 0.5)/N_{x}$ and $c_{iy} = \\frac{\\sqrt{3}}{2}(i_{y} - 0.5)/N_{y}$\n",
    "\\\n",
    "\\\n",
    "$dist_{tri}(c_{i},c_{j}) := ||c_{1}-c_{2}||_{tri} = \\min_{j=1}^{7}||c_{1}-c_{2}+s_{j}||$\n",
    "\n",
    "\n"
   ]
  },
  {
   "cell_type": "markdown",
   "metadata": {},
   "source": [
    "where:\n",
    "\\\n",
    "\\\n",
    "$s_{1} := (0,0),$\n",
    "\\\n",
    "\\\n",
    "$s_{2} := (-0.5,\\frac{\\sqrt{3}}{2}),$\n",
    "\\\n",
    "\\\n",
    "$s_{3} := (-0.5,-\\frac{\\sqrt{3}}{2}),$\n",
    "\\\n",
    "\\\n",
    "$s_{4} := (0.5,\\frac{\\sqrt{3}}{2}),$\n",
    "\\\n",
    "\\\n",
    "$s_{5} := (0.5,-\\frac{\\sqrt{3}}{2})$\n",
    "\\\n",
    "\\\n",
    "$s_{6} := (-1,0),$\n",
    "\\\n",
    "\\\n",
    "$s_{7} := (1,0),$"
   ]
  },
  {
   "cell_type": "markdown",
   "metadata": {},
   "source": [
    "**Modulation Eqs**\n",
    "\\\n",
    "\\\n",
    "$R_{\\beta} = \\begin{bmatrix} \\cos(\\beta) & -\\sin(\\beta) \\\\ \\sin(\\beta) & \\cos(\\beta) \\end{bmatrix}$"
   ]
  },
  {
   "cell_type": "markdown",
   "metadata": {},
   "source": [
    "$w_{ij}(t+1) = I\\exp\\bigg(-\\frac{||c_{i}-c_{j}+\\alpha R_{\\beta}v(t)||^2_{tri}}{\\sigma^2}\\bigg) - T$"
   ]
  },
  {
   "cell_type": "markdown",
   "metadata": {},
   "source": [
    "To calculate activity $A$, we need the weight matrix $W$. To calculate the weights, we need the receptive field locations $(c_{x},c_{y})$, which are stored in the matrix $C$"
   ]
  },
  {
   "cell_type": "code",
   "execution_count": 5,
   "metadata": {},
   "outputs": [],
   "source": [
    "C = np.zeros((90,2))"
   ]
  },
  {
   "cell_type": "markdown",
   "metadata": {},
   "source": [
    "$i_{x}, i_{y}$ are indices in the range $0$ to $N_{x}, N_{y}$, whilst $i$ is the index in range $0$ to $N$ "
   ]
  },
  {
   "cell_type": "code",
   "execution_count": 6,
   "metadata": {},
   "outputs": [],
   "source": [
    "i=0\n",
    "yConst = np.sqrt(3)/2\n",
    "for ix in range(Nx):\n",
    "    for iy in range(Ny):\n",
    "        C[i] = [(ix - 0.5)/Nx, yConst*(iy - 0.5)/Ny]\n",
    "        i+=1"
   ]
  },
  {
   "cell_type": "markdown",
   "metadata": {},
   "source": [
    "Now we can use this to calculate the distribution"
   ]
  },
  {
   "cell_type": "code",
   "execution_count": 14,
   "metadata": {},
   "outputs": [],
   "source": [
    "sArray = np.asarray([[0,0],[-0.5, yConst],[-0.5, -yConst],[0.5,yConst],[0.5,-yConst],[-1,0],[1,0]])\n",
    "\n",
    "def minFunc(ci, cj, sArray):\n",
    "    \"\"\"\n",
    "    :param array ci: Receptive field coords of cell i.\n",
    "    :param array cj: Receptive field coords of cell j.\n",
    "    :param array sArray: List of s values.\n",
    "    \"\"\"\n",
    "    storage = np.zeros_like(sArray)\n",
    "    \n",
    "    for i in range(sArray):\n",
    "        storage[i] = np.abs(ci - cj + sArray[i])\n",
    "\n",
    "    return np.min(storage)"
   ]
  },
  {
   "cell_type": "code",
   "execution_count": 25,
   "metadata": {},
   "outputs": [],
   "source": [
    "#Total time\n",
    "T = 1000\n",
    "#Activity trace\n",
    "At = np.zeros((T,Ny,Nx))\n",
    "#Initialize Activity\n",
    "At[0] = initA(Nx, Ny)\n",
    "\n",
    "# t = 0\n",
    "# for A in At:\n",
    "#     u = 0\n",
    "#     t+=1\n",
    "#     for y in A:\n",
    "#         v = 0\n",
    "#         u+=1\n",
    "#         for x in y:\n",
    "#             v+=1\n",
    "#             Bt = At[t][u][v] + "
   ]
  },
  {
   "cell_type": "code",
   "execution_count": 28,
   "metadata": {},
   "outputs": [
    {
     "data": {
      "text/plain": [
       "array([[0.09097449, 0.00213466, 0.04824029, 0.10033655, 0.04174819,\n",
       "        0.01321521, 0.03707262, 0.04270762, 0.03799142, 0.09872167],\n",
       "       [0.10523155, 0.0851333 , 0.04658369, 0.07059163, 0.01177187,\n",
       "        0.03113697, 0.04381726, 0.07437927, 0.03485283, 0.04474682],\n",
       "       [0.07182237, 0.01866613, 0.07848858, 0.01107906, 0.00989162,\n",
       "        0.08411841, 0.00588713, 0.10120159, 0.0377117 , 0.0085701 ],\n",
       "       [0.02772478, 0.10412534, 0.01035195, 0.00861389, 0.09962828,\n",
       "        0.04940636, 0.04877016, 0.00579517, 0.04611251, 0.00622513],\n",
       "       [0.10174544, 0.10384373, 0.00388209, 0.08369128, 0.04063739,\n",
       "        0.00819655, 0.00685105, 0.05490134, 0.07825399, 0.07833923],\n",
       "       [0.0567969 , 0.06036354, 0.04520778, 0.0897016 , 0.0846288 ,\n",
       "        0.08046624, 0.02555999, 0.0041462 , 0.05142996, 0.09541249],\n",
       "       [0.01195905, 0.07071124, 0.07412817, 0.09110194, 0.04355289,\n",
       "        0.04124021, 0.07120034, 0.05794961, 0.08444353, 0.10519736],\n",
       "       [0.09791748, 0.01815966, 0.06113711, 0.07996408, 0.03331597,\n",
       "        0.08318311, 0.02442331, 0.02952981, 0.04803497, 0.09116631],\n",
       "       [0.01950379, 0.01766317, 0.07694645, 0.05368906, 0.00898692,\n",
       "        0.08337503, 0.02282323, 0.08079204, 0.10267029, 0.04319013]])"
      ]
     },
     "execution_count": 28,
     "metadata": {},
     "output_type": "execute_result"
    }
   ],
   "source": [
    "At[0]"
   ]
  },
  {
   "cell_type": "code",
   "execution_count": 29,
   "metadata": {},
   "outputs": [
    {
     "data": {
      "text/plain": [
       "array([0.09097449, 0.00213466, 0.04824029, 0.10033655, 0.04174819,\n",
       "       0.01321521, 0.03707262, 0.04270762, 0.03799142, 0.09872167])"
      ]
     },
     "execution_count": 29,
     "metadata": {},
     "output_type": "execute_result"
    }
   ],
   "source": [
    "At[0][0]"
   ]
  }
 ],
 "metadata": {
  "kernelspec": {
   "display_name": "Python 3.9.13 ('snn')",
   "language": "python",
   "name": "python3"
  },
  "language_info": {
   "codemirror_mode": {
    "name": "ipython",
    "version": 3
   },
   "file_extension": ".py",
   "mimetype": "text/x-python",
   "name": "python",
   "nbconvert_exporter": "python",
   "pygments_lexer": "ipython3",
   "version": "3.9.13"
  },
  "orig_nbformat": 4,
  "vscode": {
   "interpreter": {
    "hash": "1794440fbd4d8fd96cd8625cb505bfffa66289744d0ad137a04239c3a59fa826"
   }
  }
 },
 "nbformat": 4,
 "nbformat_minor": 2
}
