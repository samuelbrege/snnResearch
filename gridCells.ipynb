{
 "cells": [
  {
   "cell_type": "code",
   "execution_count": 34,
   "metadata": {},
   "outputs": [],
   "source": [
    "import numpy as np\n",
    "import brian2 as b2\n",
    "import matplotlib.pyplot as plt"
   ]
  },
  {
   "cell_type": "markdown",
   "metadata": {},
   "source": [
    "Notebook goal is to model gridcells as a twisted torus using velocity as an input, using equations from Guanella and Verschure 2007"
   ]
  },
  {
   "cell_type": "markdown",
   "metadata": {},
   "source": [
    "**Reference**\n",
    "\\\n",
    "\\\n",
    "$N:$ Number of neurons\n",
    "\\\n",
    "$N_{x}:$ Width\n",
    "\\\n",
    "$N_{y}:$ Height\n",
    "\\\n",
    "$A:$ Activity matrix of shape $x$ by $y$\n",
    "\\\n",
    "$I:$ Intensity parameter, defining the overall strength of the synapses\n",
    "\\\n",
    "$\\sigma:$ Regulates the size of the Gaussian\n",
    "\\\n",
    "$T:$ Shift parameter determining excitatory and inhibitory zones\n",
    "\\\n",
    "$\\alpha:$ The gain (distance between receptive fields)\n",
    "\\\n",
    "$\\beta:$ The bias (angle of receptive fields) $[0, \\pi/3]$"
   ]
  },
  {
   "cell_type": "code",
   "execution_count": 35,
   "metadata": {},
   "outputs": [],
   "source": [
    "#Only Ny needs to be defined, but writing out for clarity\n",
    "#Nx = Ny + 1, N = Nx * Ny\n",
    "Ny = 9\n",
    "Nx = 10\n",
    "N = 90"
   ]
  },
  {
   "cell_type": "markdown",
   "metadata": {},
   "source": [
    "Initialize neuron activity randomly distributed between $0$ and $1/\\sqrt{N}$"
   ]
  },
  {
   "cell_type": "markdown",
   "metadata": {},
   "source": [
    "**Activity Eqs.**\n",
    "\\\n",
    "\\\n",
    "$B_{i}(t+1) = A_{i}(t) + \\sum \\limits _{j=1}^{N}A_{j}(t)w_{ji}$ \n",
    "\\\n",
    "$A_{i}(t+1) = B_{i}(t+1) + \\tau\\Bigg(\\frac{B_{i}(t+1)}{<B_{j}(t+1)>_{j=1}^{N}}-B_{i}(t+1)\\Bigg)$\n",
    "\\\n",
    "\\\n",
    "Function $< . >_{j=1}^{N}$ is the mean over the cells of the network, used to ensure stability \\\n",
    "\\\n",
    "Therefore $<B_{j}(t+1)>_{j=1}^{N}$ is an external cell that keeps things stable \\\n",
    "\\\n",
    "$A_{i}(t+1) = 0$ when $A_{i}(t+1)$ is smaller than 0 \\\n",
    "\\\n",
    "\\\n",
    "**Synapse Eqs.**\n",
    "\\\n",
    "\\\n",
    "$w_{ij} = I\\exp{(-\\frac{||c_{i}-c_{j}||_{tri}^2}{\\sigma^2})} - T$\n",
    "\\\n",
    "\\\n",
    "*Where $c_{i} = (c_{ix},c_{iy})$ is the position of cell $i$, $c_{ix} = (i_{x} + 0.5)/N_{x}$ and $c_{iy} = \\frac{\\sqrt{3}}{2}(i_{y} + 0.5)/N_{y}$ \n",
    "\\\n",
    "\\\n",
    "$dist_{tri}(c_{i},c_{j}) := ||c_{1}-c_{2}||_{tri} = \\min_{j=1}^{7}||c_{1}-c_{2}+s_{j}||$\n",
    "\n",
    "\n"
   ]
  },
  {
   "cell_type": "markdown",
   "metadata": {},
   "source": [
    "$s_{1} := (0,0),$\n",
    "\\\n",
    "\\\n",
    "$s_{2} := (-0.5,\\frac{\\sqrt{3}}{2}),$\n",
    "\\\n",
    "\\\n",
    "$s_{3} := (-0.5,-\\frac{\\sqrt{3}}{2}),$\n",
    "\\\n",
    "\\\n",
    "$s_{4} := (0.5,\\frac{\\sqrt{3}}{2}),$\n",
    "\\\n",
    "\\\n",
    "$s_{5} := (0.5,-\\frac{\\sqrt{3}}{2})$\n",
    "\\\n",
    "\\\n",
    "$s_{6} := (-1,0),$\n",
    "\\\n",
    "\\\n",
    "$s_{7} := (1,0),$"
   ]
  },
  {
   "cell_type": "markdown",
   "metadata": {},
   "source": [
    "*Equation changed slightly from paper to adjust for indices starting at 0"
   ]
  },
  {
   "cell_type": "markdown",
   "metadata": {},
   "source": [
    "**Modulation Eqs**\n",
    "\\\n",
    "\\\n",
    "$R_{\\beta} = \\begin{pmatrix} \\cos(\\beta) & -\\sin(\\beta) \\\\ \\sin(\\beta) & \\cos(\\beta) \\end{pmatrix}$"
   ]
  },
  {
   "cell_type": "markdown",
   "metadata": {},
   "source": [
    "$w_{ij}(t+1) = I\\exp\\bigg(-\\frac{||c_{i}-c_{j}+\\alpha R_{\\beta}v(t)||^2_{tri}}{\\sigma^2}\\bigg) - T$"
   ]
  },
  {
   "cell_type": "markdown",
   "metadata": {},
   "source": [
    "To calculate activity $A$, we need the weight matrix $W$. To calculate the weights, we need the receptive field locations $(c_{x},c_{y})$, which are stored in the matrix $C$"
   ]
  },
  {
   "cell_type": "markdown",
   "metadata": {},
   "source": [
    "$i_{x}, i_{y}$ are indices in the range $0$ to $N_{x}, N_{y}$, whilst $i$ is the index in range $0$ to $N$ "
   ]
  },
  {
   "cell_type": "markdown",
   "metadata": {},
   "source": [
    "**Exploration Start**\n",
    "\\\n",
    "\\\n",
    "To start, let's go through the equations one by one, following them without the use of matrices. This will be less efficient, but will allow us to make sure everthing is working.\n",
    "\\\n",
    "\\\n",
    "We'll begin by setting up the coordinate matrix $C$, which stores the rectangular locations of the cells' receptive fields. I say rectangular rather than triangular because it will be 'twisted' by the $tri$ distribution later on"
   ]
  },
  {
   "cell_type": "code",
   "execution_count": 40,
   "metadata": {},
   "outputs": [],
   "source": [
    "#x and y coords\n",
    "Cx = (np.arange(Nx)+(0.5))/Nx\n",
    "Cy = ((np.arange(Ny)+(0.5))/Ny)*np.sqrt(3)/2\n",
    "\n",
    "#Creating a mesh, so we end up with Nx by Ny coords (N)\n",
    "Tx, Ty = np.asarray(np.meshgrid(Cx, Cy))\n",
    "\n",
    "#Combining and adding a complex j (i) component to represent the y-coord. Make things easier later on if we don't make this into a 2d array\n",
    "C = (Tx+1j * Ty).reshape(-1,1)"
   ]
  },
  {
   "cell_type": "code",
   "execution_count": 41,
   "metadata": {},
   "outputs": [
    {
     "name": "stdout",
     "output_type": "stream",
     "text": [
      "[[0.05+0.04811252j]\n",
      " [0.15+0.04811252j]\n",
      " [0.25+0.04811252j]\n",
      " [0.35+0.04811252j]\n",
      " [0.45+0.04811252j]]\n"
     ]
    }
   ],
   "source": [
    "#Printing first 5 values\n",
    "print(C[:5])"
   ]
  },
  {
   "cell_type": "markdown",
   "metadata": {},
   "source": [
    "Now we'll compute the initial weights. To do this, we will need to twist the rectangular coordinates using the $tri$ distribution."
   ]
  },
  {
   "cell_type": "code",
   "execution_count": 43,
   "metadata": {},
   "outputs": [],
   "source": [
    "#Values for s from paper, used to create triangular tesselation.\n",
    "S = [ 0+1j*0, -0.5+1j*np.sqrt(3)/2, -0.5+1j*(-np.sqrt(3)/2), 0.5+1j*np.sqrt(3)/2, 0.5+1j*(-np.sqrt(3)/2), -1+1j*0, 1+1j*0]"
   ]
  },
  {
   "cell_type": "code",
   "execution_count": 52,
   "metadata": {},
   "outputs": [
    {
     "data": {
      "image/png": "[encoded data removed]",
      "text/plain": [
       "<Figure size 640x480 with 1 Axes>"
      ]
     },
     "metadata": {},
     "output_type": "display_data"
    }
   ],
   "source": [
    "#Plotting for visualization, not needed by actual model\n",
    "\n",
    "#S coords\n",
    "sx = [s.real for s in S]\n",
    "sy = [s.imag for s in S]\n",
    "#C coords\n",
    "cx = [c.real for c in C]\n",
    "cy = [c.imag for c in C]\n",
    "\n",
    "plt.scatter(sx,sy, color='blue', label='S')\n",
    "plt.scatter(cx,cy, color='red', label='C')\n",
    "plt.legend()\n",
    "plt.show()"
   ]
  },
  {
   "cell_type": "markdown",
   "metadata": {},
   "source": [
    "By fitting with S (Blue) we can twist C (Red) into a triangular distribution. NOW, we'll actually move onto the weight initialization: both with and without the triangular tesselation"
   ]
  },
  {
   "cell_type": "code",
   "execution_count": 53,
   "metadata": {},
   "outputs": [],
   "source": [
    "#Empy weight matrix\n",
    "w = np.zeros((N,N))\n",
    "#Parameter values taken from paper\n",
    "I = 0.3\n",
    "T = 0.05\n",
    "sigma = 0.24\n",
    "\n",
    "for i in range(N):\n",
    "    for j in range(N):\n",
    "        #dist_tri function\n",
    "        tri = np.abs(C[i] - C[j])\n",
    "        for s in S:\n",
    "            d = np.abs(C[i] - C[j] + s)\n",
    "            if d < tri:\n",
    "                tri = d\n",
    "        w[i][j] = I * np.exp(-(tri**2)/(sigma**2)) - T\n",
    "\n",
    "#Empy testing weight matrix\n",
    "w_test = np.zeros((N,N))\n",
    "\n",
    "for i in range(N):\n",
    "    for j in range(N):\n",
    "        #This time, no need for a dist_tri function\n",
    "        tri = np.abs(C[i] - C[j])\n",
    "        w_test[i][j] = I * np.exp(-(tri**2)/(sigma**2)) - T"
   ]
  },
  {
   "cell_type": "code",
   "execution_count": 66,
   "metadata": {},
   "outputs": [
    {
     "data": {
      "image/png": "[encoded data removed]",
      "text/plain": [
       "<Figure size 1000x1000 with 2 Axes>"
      ]
     },
     "metadata": {},
     "output_type": "display_data"
    }
   ],
   "source": [
    "fig, (ax1, ax2) = plt.subplots(1, 2, sharey=True)\n",
    "fig.set_size_inches((10,10))\n",
    "ax1.imshow(w, cmap='hot', interpolation='nearest')\n",
    "ax1.title.set_text(\"With triangular and torus tesselation\")\n",
    "ax2.imshow(w_test, cmap='hot', interpolation='nearest')\n",
    "ax2.title.set_text(\"Without triangular and torus tesselation\")\n",
    "plt.show()"
   ]
  },
  {
   "cell_type": "markdown",
   "metadata": {},
   "source": [
    "Cool! As you can see, neurons have strong connections to themselves and their neighbors, with those connections steadily weakening the further you get away. \n",
    "\\\n",
    "\\\n",
    "With a triangular tesselation, we can see the distribution of connections is much smoother. And, thanks to the torus, neurons on opposite sides are considered neighbors."
   ]
  },
  {
   "cell_type": "markdown",
   "metadata": {},
   "source": [
    "Ok! Let's calculate the activity."
   ]
  },
  {
   "cell_type": "code",
   "execution_count": 134,
   "metadata": {},
   "outputs": [],
   "source": [
    "#Activity initialized randomly as per paper\n",
    "def initA(Nx, Ny):\n",
    "    return np.random.uniform(0, 1/np.sqrt(N), N)\n",
    "\n",
    "T = 90\n",
    "A = initA(Nx, Ny)\n",
    "\n",
    "#Stores A and B at each timestep\n",
    "At = np.zeros((T, N))\n",
    "At[0] = A\n",
    "Bt = np.zeros((T, N))\n",
    "\n",
    "tau = 0.8\n",
    "\n",
    "for t in range(T-1):\n",
    "    for i in range(N):\n",
    "        #w_ji: weights to neuron i\n",
    "        Bt[t+1][i] = At[t][i] + At[t]@w[:][i]\n",
    "\n",
    "        #Divided by mean to maintain stability\n",
    "        At[t+1][i] = Bt[t+1][i] + tau*((Bt[t+1][i]/np.mean(Bt[t+1])) - Bt[t+1][i])\n",
    "        if At[t+1][i] < 0:\n",
    "            At[t+1][i] = 0"
   ]
  },
  {
   "cell_type": "code",
   "execution_count": 137,
   "metadata": {},
   "outputs": [
    {
     "data": {
      "image/png": "[encoded data removed]",
      "text/plain": [
       "<Figure size 500x500 with 1 Axes>"
      ]
     },
     "metadata": {},
     "output_type": "display_data"
    }
   ],
   "source": [
    "fig, ax = plt.subplots(1, 1)\n",
    "fig.set_size_inches((5,5))\n",
    "ax.imshow(At.T)\n",
    "ax.title.set_text(\"Neuron activity over time\")\n",
    "ax.set_ylabel(\"Neuron index\")\n",
    "ax.set_xlabel(\"Time\")\n",
    "plt.show()"
   ]
  },
  {
   "cell_type": "markdown",
   "metadata": {},
   "source": [
    "Sick! It takes a moment (due to B being initialized as zero), but after a few timesteps we can see that Neuron 0 is the most active, followed by its neighbors."
   ]
  },
  {
   "cell_type": "markdown",
   "metadata": {},
   "source": [
    "Notice that the activity is constant. This is because we have not implemented any moving agent! So the model assumes we have a velocity of 0: meaning the activity remains at it's starting point."
   ]
  },
  {
   "cell_type": "code",
   "execution_count": 24,
   "metadata": {},
   "outputs": [],
   "source": [
    "\n",
    "cM = np.cos(beta) + 1j*np.sin(beta)"
   ]
  },
  {
   "cell_type": "code",
   "execution_count": 31,
   "metadata": {},
   "outputs": [
    {
     "data": {
      "text/plain": [
       "(-0.9999999999999999+1j)"
      ]
     },
     "execution_count": 31,
     "metadata": {},
     "output_type": "execute_result"
    }
   ],
   "source": [
    "v1*cM"
   ]
  },
  {
   "cell_type": "code",
   "execution_count": 32,
   "metadata": {},
   "outputs": [
    {
     "data": {
      "text/plain": [
       "array([[-1.],\n",
       "       [ 1.]])"
      ]
     },
     "execution_count": 32,
     "metadata": {},
     "output_type": "execute_result"
    }
   ],
   "source": [
    "rM@v2"
   ]
  },
  {
   "cell_type": "code",
   "execution_count": 23,
   "metadata": {},
   "outputs": [
    {
     "data": {
      "text/plain": [
       "(-2+2j)"
      ]
     },
     "execution_count": 23,
     "metadata": {},
     "output_type": "execute_result"
    }
   ],
   "source": []
  },
  {
   "cell_type": "code",
   "execution_count": 3,
   "metadata": {},
   "outputs": [],
   "source": [
    "class grid_module():\n",
    "    def __init__(self, Nx ,Ny, gain, bias, I, sigma):\n",
    "        self.Nx = Nx\n",
    "        self.Ny = Ny\n",
    "        self.gain = gain\n",
    "        self.bias = bias\n",
    "        self.I = I\n",
    "        self.sigma = sigma\n",
    "        self.R = np.cos(bias) + 1j*np.sin(bias)\n",
    "\n",
    "        #Used to twist the torus\n",
    "        self.S = [ 0+1j*0, -0.5+1j*np.sqrt(3)/2, -0.5+1j*(-np.sqrt(3)/2), 0.5+1j*np.sqrt(3)/2, 0.5+1j*(-np.sqrt(3)/2), -1+1j*0, 1+1j*0]\n",
    "\n",
    "        #total number of neurons\n",
    "        self.N = Nx*Ny\n",
    "        #Activity Matrix\n",
    "        self.A = self.init_A()\n",
    "        #Coord matrix\n",
    "        self.C = self.init_C()\n",
    "        #tri distribution\n",
    "        self.tri = self.dist_tri()\n",
    "        #Weight matrix\n",
    "        self.w = self.init_w()\n",
    "        \n",
    "    def init_A(self):\n",
    "        \"\"\"\n",
    "        Initializes neuron activity matrix A with random values from 0 to 1/sqrt(N)\n",
    "        \"\"\"\n",
    "        return np.random.uniform(0, 1/np.sqrt(self.N), self.N)\n",
    "\n",
    "    def init_C(self):\n",
    "        \"\"\"\n",
    "        Initializes neuron coordinate matrix C\n",
    "        \"\"\"\n",
    "        Cx = (np.arange(self.Nx)+(0.5))/self.Nx\n",
    "        Cy = ((np.arange(self.Ny)+(0.5))/self.Ny)*np.sqrt(3)/2\n",
    "        Tx, Ty = np.asarray(np.meshgrid(self.Cx, self.Cy))\n",
    "\n",
    "        return (Tx + 1j*Ty).reshape(-1,1)\n",
    "\n",
    "    def dist_tri(self):\n",
    "        \"\"\"\n",
    "        Creates distribution\n",
    "        \"\"\"\n",
    "        Ci = (self.C@np.ones_like(self.C.T)).T\n",
    "        Cj = Ci.T\n",
    "\n",
    "        D = Ci - Cj\n",
    "\n",
    "        for s in range(len(self.S)):\n",
    "            distance = Ci - Cj + s\n",
    "            idx = np.where(np.abs(distance)<np.abs(D))\n",
    "            D[idx] = distance[idx]\n",
    "            \n",
    "        return D\n",
    "\n",
    "    def init_w(self):\n",
    "        \"\"\"\n",
    "        Initializes weight matrix\n",
    "        \"\"\"\n",
    "        return self.I * np.exp(-(np.abs(self.tri)**2)/self.sigma**2) - self.T\n",
    "\n",
    "    def update_w(self, v):\n",
    "        \"\"\"\n",
    "        Updates weight matrix based on velocity\n",
    "        \"\"\"\n",
    "        return self.I * np.exp(-(np.abs(self.tri + self.gain*self.R*v)**2) / self.sigma**2) - self.T\n",
    "\n",
    "    def B(self):\n",
    "        \"\"\"\n",
    "        B function\n",
    "        \"\"\"\n",
    "        return self.A + self.A@self.w\n",
    "\n",
    "        "
   ]
  },
  {
   "cell_type": "code",
   "execution_count": 25,
   "metadata": {},
   "outputs": [],
   "source": [
    "#Total time\n",
    "T = 1000\n",
    "#Activity trace\n",
    "At = np.zeros((T,Ny,Nx))\n",
    "#Initialize Activity\n",
    "At[0] = initA(Nx, Ny)\n",
    "\n",
    "# t = 0\n",
    "# for A in At:\n",
    "#     u = 0\n",
    "#     t+=1\n",
    "#     for y in A:\n",
    "#         v = 0\n",
    "#         u+=1\n",
    "#         for x in y:\n",
    "#             v+=1\n",
    "#             Bt = At[t][u][v] + "
   ]
  },
  {
   "cell_type": "code",
   "execution_count": 28,
   "metadata": {},
   "outputs": [
    {
     "data": {
      "text/plain": [
       "array([[0.09097449, 0.00213466, 0.04824029, 0.10033655, 0.04174819,\n",
       "        0.01321521, 0.03707262, 0.04270762, 0.03799142, 0.09872167],\n",
       "       [0.10523155, 0.0851333 , 0.04658369, 0.07059163, 0.01177187,\n",
       "        0.03113697, 0.04381726, 0.07437927, 0.03485283, 0.04474682],\n",
       "       [0.07182237, 0.01866613, 0.07848858, 0.01107906, 0.00989162,\n",
       "        0.08411841, 0.00588713, 0.10120159, 0.0377117 , 0.0085701 ],\n",
       "       [0.02772478, 0.10412534, 0.01035195, 0.00861389, 0.09962828,\n",
       "        0.04940636, 0.04877016, 0.00579517, 0.04611251, 0.00622513],\n",
       "       [0.10174544, 0.10384373, 0.00388209, 0.08369128, 0.04063739,\n",
       "        0.00819655, 0.00685105, 0.05490134, 0.07825399, 0.07833923],\n",
       "       [0.0567969 , 0.06036354, 0.04520778, 0.0897016 , 0.0846288 ,\n",
       "        0.08046624, 0.02555999, 0.0041462 , 0.05142996, 0.09541249],\n",
       "       [0.01195905, 0.07071124, 0.07412817, 0.09110194, 0.04355289,\n",
       "        0.04124021, 0.07120034, 0.05794961, 0.08444353, 0.10519736],\n",
       "       [0.09791748, 0.01815966, 0.06113711, 0.07996408, 0.03331597,\n",
       "        0.08318311, 0.02442331, 0.02952981, 0.04803497, 0.09116631],\n",
       "       [0.01950379, 0.01766317, 0.07694645, 0.05368906, 0.00898692,\n",
       "        0.08337503, 0.02282323, 0.08079204, 0.10267029, 0.04319013]])"
      ]
     },
     "execution_count": 28,
     "metadata": {},
     "output_type": "execute_result"
    }
   ],
   "source": [
    "At[0]"
   ]
  },
  {
   "cell_type": "code",
   "execution_count": 29,
   "metadata": {},
   "outputs": [
    {
     "data": {
      "text/plain": [
       "array([0.09097449, 0.00213466, 0.04824029, 0.10033655, 0.04174819,\n",
       "       0.01321521, 0.03707262, 0.04270762, 0.03799142, 0.09872167])"
      ]
     },
     "execution_count": 29,
     "metadata": {},
     "output_type": "execute_result"
    }
   ],
   "source": [
    "At[0][0]"
   ]
  }
 ],
 "metadata": {
  "kernelspec": {
   "display_name": "Python 3.9.13 ('snn')",
   "language": "python",
   "name": "python3"
  },
  "language_info": {
   "codemirror_mode": {
    "name": "ipython",
    "version": 3
   },
   "file_extension": ".py",
   "mimetype": "text/x-python",
   "name": "python",
   "nbconvert_exporter": "python",
   "pygments_lexer": "ipython3",
   "version": "3.9.13"
  },
  "orig_nbformat": 4,
  "vscode": {
   "interpreter": {
    "hash": "1794440fbd4d8fd96cd8625cb505bfffa66289744d0ad137a04239c3a59fa826"
   }
  }
 },
 "nbformat": 4,
 "nbformat_minor": 2
}
